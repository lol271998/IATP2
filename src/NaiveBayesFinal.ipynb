{
 "cells": [
  {
   "cell_type": "markdown",
   "id": "bbb7f485",
   "metadata": {},
   "source": [
    "# Importar data"
   ]
  },
  {
   "cell_type": "code",
   "execution_count": 286,
   "id": "e39e881e",
   "metadata": {},
   "outputs": [],
   "source": [
    "import pandas as pd\n",
    "import matplotlib.pyplot as plt\n",
    "from sklearn.naive_bayes import GaussianNB\n",
    "from sklearn.tree import DecisionTreeClassifier\n",
    "from sklearn.model_selection import train_test_split\n",
    "from sklearn.metrics import accuracy_score, recall_score, confusion_matrix, plot_confusion_matrix,f1_score, precision_score,classification_report\n",
    "\n",
    "df = pd.read_csv(\"speedDating_trab.csv\")\n",
    "del df['Unnamed: 0'] #'Unnamed: 0' serve de indice para a df"
   ]
  },
  {
   "cell_type": "markdown",
   "id": "05a7fcc0",
   "metadata": {},
   "source": [
    "# Analisar as Variavéis"
   ]
  },
  {
   "cell_type": "code",
   "execution_count": 287,
   "id": "154f7e16",
   "metadata": {},
   "outputs": [
    {
     "data": {
      "text/plain": [
       "id           True\n",
       "partner     False\n",
       "age          True\n",
       "age_o        True\n",
       "goal         True\n",
       "date         True\n",
       "go_out       True\n",
       "int_corr     True\n",
       "length       True\n",
       "met          True\n",
       "like         True\n",
       "prob         True\n",
       "match       False\n",
       "dtype: bool"
      ]
     },
     "execution_count": 287,
     "metadata": {},
     "output_type": "execute_result"
    }
   ],
   "source": [
    "# Que células têm elementos NaN\n",
    "df.isnull().any()"
   ]
  },
  {
   "cell_type": "code",
   "execution_count": 288,
   "id": "1c9cd307",
   "metadata": {},
   "outputs": [
    {
     "name": "stdout",
     "output_type": "stream",
     "text": [
      "          Qtd elem NaN  % de elem NaN\n",
      "id                   1       0.011936\n",
      "partner              0       0.000000\n",
      "age                 95       1.133922\n",
      "age_o              104       1.241346\n",
      "goal                79       0.942946\n",
      "date                97       1.157794\n",
      "go_out              79       0.942946\n",
      "int_corr           158       1.885892\n",
      "length             915      10.921461\n",
      "met                375       4.476009\n",
      "like               240       2.864646\n",
      "prob               309       3.688231\n",
      "match                0       0.000000\n"
     ]
    }
   ],
   "source": [
    "# Quantidade de elementos NaN\n",
    "percent_missing = df.isnull().sum() * 100 / len(df)\n",
    "sum_missing = df.isnull().sum()\n",
    "missing_value_df = pd.DataFrame({'Qtd elem NaN':sum_missing,'% de elem NaN': percent_missing})\n",
    "print(missing_value_df)"
   ]
  },
  {
   "cell_type": "code",
   "execution_count": 289,
   "id": "2c86eb8c",
   "metadata": {
    "scrolled": false
   },
   "outputs": [
    {
     "name": "stdout",
     "output_type": "stream",
     "text": [
      "              Média  Mediana  Desvio padrão\n",
      "id         8.960248     8.00       5.491329\n",
      "partner    8.963595     8.00       5.491068\n",
      "age       26.358928    26.00       3.566763\n",
      "age_o     26.364999    26.00       3.563648\n",
      "goal       2.122063     2.00       1.407181\n",
      "date       5.006762     5.00       1.444531\n",
      "go_out     2.158091     2.00       1.105246\n",
      "int_corr   0.196010     0.21       0.303539\n",
      "length     1.843495     1.00       0.975662\n",
      "met        0.494315     0.00       0.499999\n",
      "like       6.134087     6.00       1.841285\n",
      "prob       5.207523     5.00       2.129565\n",
      "match      0.164717     0.00       0.370947\n"
     ]
    }
   ],
   "source": [
    "# Média, moda, medaiana e desvio padrão\n",
    "mmmd_df = pd.DataFrame({'Média':df.mean(),'Mediana':df.median(),'Desvio padrão':df.std()})\n",
    "print(mmmd_df)"
   ]
  },
  {
   "cell_type": "markdown",
   "id": "d1f179d3",
   "metadata": {},
   "source": [
    "# Processamento de dados"
   ]
  },
  {
   "cell_type": "code",
   "execution_count": 290,
   "id": "463d6fec",
   "metadata": {},
   "outputs": [
    {
     "data": {
      "text/html": [
       "<div>\n",
       "<style scoped>\n",
       "    .dataframe tbody tr th:only-of-type {\n",
       "        vertical-align: middle;\n",
       "    }\n",
       "\n",
       "    .dataframe tbody tr th {\n",
       "        vertical-align: top;\n",
       "    }\n",
       "\n",
       "    .dataframe thead th {\n",
       "        text-align: right;\n",
       "    }\n",
       "</style>\n",
       "<table border=\"1\" class=\"dataframe\">\n",
       "  <thead>\n",
       "    <tr style=\"text-align: right;\">\n",
       "      <th></th>\n",
       "      <th>id</th>\n",
       "      <th>partner</th>\n",
       "      <th>age</th>\n",
       "      <th>age_o</th>\n",
       "      <th>goal</th>\n",
       "      <th>date</th>\n",
       "      <th>go_out</th>\n",
       "      <th>int_corr</th>\n",
       "      <th>length</th>\n",
       "      <th>met</th>\n",
       "      <th>like</th>\n",
       "      <th>prob</th>\n",
       "      <th>match</th>\n",
       "    </tr>\n",
       "  </thead>\n",
       "  <tbody>\n",
       "    <tr>\n",
       "      <th>0</th>\n",
       "      <td>1.0</td>\n",
       "      <td>1</td>\n",
       "      <td>21.0</td>\n",
       "      <td>27.0</td>\n",
       "      <td>2.0</td>\n",
       "      <td>7.0</td>\n",
       "      <td>1.0</td>\n",
       "      <td>0.14</td>\n",
       "      <td>2.0</td>\n",
       "      <td>1.0</td>\n",
       "      <td>7.0</td>\n",
       "      <td>6.0</td>\n",
       "      <td>0</td>\n",
       "    </tr>\n",
       "    <tr>\n",
       "      <th>1</th>\n",
       "      <td>1.0</td>\n",
       "      <td>2</td>\n",
       "      <td>21.0</td>\n",
       "      <td>22.0</td>\n",
       "      <td>2.0</td>\n",
       "      <td>7.0</td>\n",
       "      <td>1.0</td>\n",
       "      <td>0.54</td>\n",
       "      <td>2.0</td>\n",
       "      <td>1.0</td>\n",
       "      <td>7.0</td>\n",
       "      <td>5.0</td>\n",
       "      <td>0</td>\n",
       "    </tr>\n",
       "    <tr>\n",
       "      <th>3</th>\n",
       "      <td>1.0</td>\n",
       "      <td>4</td>\n",
       "      <td>21.0</td>\n",
       "      <td>23.0</td>\n",
       "      <td>2.0</td>\n",
       "      <td>7.0</td>\n",
       "      <td>1.0</td>\n",
       "      <td>0.61</td>\n",
       "      <td>2.0</td>\n",
       "      <td>1.0</td>\n",
       "      <td>7.0</td>\n",
       "      <td>6.0</td>\n",
       "      <td>1</td>\n",
       "    </tr>\n",
       "    <tr>\n",
       "      <th>4</th>\n",
       "      <td>1.0</td>\n",
       "      <td>5</td>\n",
       "      <td>21.0</td>\n",
       "      <td>24.0</td>\n",
       "      <td>2.0</td>\n",
       "      <td>7.0</td>\n",
       "      <td>1.0</td>\n",
       "      <td>0.21</td>\n",
       "      <td>2.0</td>\n",
       "      <td>1.0</td>\n",
       "      <td>6.0</td>\n",
       "      <td>6.0</td>\n",
       "      <td>1</td>\n",
       "    </tr>\n",
       "    <tr>\n",
       "      <th>5</th>\n",
       "      <td>1.0</td>\n",
       "      <td>6</td>\n",
       "      <td>21.0</td>\n",
       "      <td>25.0</td>\n",
       "      <td>2.0</td>\n",
       "      <td>7.0</td>\n",
       "      <td>1.0</td>\n",
       "      <td>0.25</td>\n",
       "      <td>2.0</td>\n",
       "      <td>1.0</td>\n",
       "      <td>6.0</td>\n",
       "      <td>5.0</td>\n",
       "      <td>0</td>\n",
       "    </tr>\n",
       "    <tr>\n",
       "      <th>...</th>\n",
       "      <td>...</td>\n",
       "      <td>...</td>\n",
       "      <td>...</td>\n",
       "      <td>...</td>\n",
       "      <td>...</td>\n",
       "      <td>...</td>\n",
       "      <td>...</td>\n",
       "      <td>...</td>\n",
       "      <td>...</td>\n",
       "      <td>...</td>\n",
       "      <td>...</td>\n",
       "      <td>...</td>\n",
       "      <td>...</td>\n",
       "    </tr>\n",
       "    <tr>\n",
       "      <th>8372</th>\n",
       "      <td>22.0</td>\n",
       "      <td>17</td>\n",
       "      <td>25.0</td>\n",
       "      <td>24.0</td>\n",
       "      <td>1.0</td>\n",
       "      <td>2.0</td>\n",
       "      <td>1.0</td>\n",
       "      <td>0.28</td>\n",
       "      <td>1.0</td>\n",
       "      <td>0.0</td>\n",
       "      <td>4.0</td>\n",
       "      <td>4.0</td>\n",
       "      <td>0</td>\n",
       "    </tr>\n",
       "    <tr>\n",
       "      <th>8373</th>\n",
       "      <td>22.0</td>\n",
       "      <td>18</td>\n",
       "      <td>25.0</td>\n",
       "      <td>26.0</td>\n",
       "      <td>1.0</td>\n",
       "      <td>2.0</td>\n",
       "      <td>1.0</td>\n",
       "      <td>0.64</td>\n",
       "      <td>1.0</td>\n",
       "      <td>0.0</td>\n",
       "      <td>2.0</td>\n",
       "      <td>5.0</td>\n",
       "      <td>0</td>\n",
       "    </tr>\n",
       "    <tr>\n",
       "      <th>8374</th>\n",
       "      <td>22.0</td>\n",
       "      <td>19</td>\n",
       "      <td>25.0</td>\n",
       "      <td>24.0</td>\n",
       "      <td>1.0</td>\n",
       "      <td>2.0</td>\n",
       "      <td>1.0</td>\n",
       "      <td>0.71</td>\n",
       "      <td>1.0</td>\n",
       "      <td>0.0</td>\n",
       "      <td>4.0</td>\n",
       "      <td>4.0</td>\n",
       "      <td>0</td>\n",
       "    </tr>\n",
       "    <tr>\n",
       "      <th>8375</th>\n",
       "      <td>22.0</td>\n",
       "      <td>20</td>\n",
       "      <td>25.0</td>\n",
       "      <td>29.0</td>\n",
       "      <td>1.0</td>\n",
       "      <td>2.0</td>\n",
       "      <td>1.0</td>\n",
       "      <td>-0.46</td>\n",
       "      <td>1.0</td>\n",
       "      <td>0.0</td>\n",
       "      <td>6.0</td>\n",
       "      <td>5.0</td>\n",
       "      <td>0</td>\n",
       "    </tr>\n",
       "    <tr>\n",
       "      <th>8376</th>\n",
       "      <td>22.0</td>\n",
       "      <td>21</td>\n",
       "      <td>25.0</td>\n",
       "      <td>22.0</td>\n",
       "      <td>1.0</td>\n",
       "      <td>2.0</td>\n",
       "      <td>1.0</td>\n",
       "      <td>0.62</td>\n",
       "      <td>1.0</td>\n",
       "      <td>0.0</td>\n",
       "      <td>5.0</td>\n",
       "      <td>5.0</td>\n",
       "      <td>0</td>\n",
       "    </tr>\n",
       "  </tbody>\n",
       "</table>\n",
       "<p>7671 rows × 13 columns</p>\n",
       "</div>"
      ],
      "text/plain": [
       "        id  partner   age  age_o  goal  date  go_out  int_corr  length  met  \\\n",
       "0      1.0        1  21.0   27.0   2.0   7.0     1.0      0.14     2.0  1.0   \n",
       "1      1.0        2  21.0   22.0   2.0   7.0     1.0      0.54     2.0  1.0   \n",
       "3      1.0        4  21.0   23.0   2.0   7.0     1.0      0.61     2.0  1.0   \n",
       "4      1.0        5  21.0   24.0   2.0   7.0     1.0      0.21     2.0  1.0   \n",
       "5      1.0        6  21.0   25.0   2.0   7.0     1.0      0.25     2.0  1.0   \n",
       "...    ...      ...   ...    ...   ...   ...     ...       ...     ...  ...   \n",
       "8372  22.0       17  25.0   24.0   1.0   2.0     1.0      0.28     1.0  0.0   \n",
       "8373  22.0       18  25.0   26.0   1.0   2.0     1.0      0.64     1.0  0.0   \n",
       "8374  22.0       19  25.0   24.0   1.0   2.0     1.0      0.71     1.0  0.0   \n",
       "8375  22.0       20  25.0   29.0   1.0   2.0     1.0     -0.46     1.0  0.0   \n",
       "8376  22.0       21  25.0   22.0   1.0   2.0     1.0      0.62     1.0  0.0   \n",
       "\n",
       "      like  prob  match  \n",
       "0      7.0   6.0      0  \n",
       "1      7.0   5.0      0  \n",
       "3      7.0   6.0      1  \n",
       "4      6.0   6.0      1  \n",
       "5      6.0   5.0      0  \n",
       "...    ...   ...    ...  \n",
       "8372   4.0   4.0      0  \n",
       "8373   2.0   5.0      0  \n",
       "8374   4.0   4.0      0  \n",
       "8375   6.0   5.0      0  \n",
       "8376   5.0   5.0      0  \n",
       "\n",
       "[7671 rows x 13 columns]"
      ]
     },
     "execution_count": 290,
     "metadata": {},
     "output_type": "execute_result"
    }
   ],
   "source": [
    "#id null não podemos mudar nada\n",
    "df = df[df['id'].notna()]\n",
    "\n",
    "#Retirar todos os NaN excepto em length\n",
    "df.dropna(subset = ['partner','age','age_o','goal','date','go_out','int_corr','met','prob','like','match'])"
   ]
  },
  {
   "cell_type": "code",
   "execution_count": 291,
   "id": "39ad7014",
   "metadata": {},
   "outputs": [
    {
     "name": "stdout",
     "output_type": "stream",
     "text": [
      "\n",
      "GAUSSIAN-NB\n",
      "Sem NaN -> Number of mislabeled points out of a total 688 points : 116 ~ 16%\n",
      "Média -> Number of mislabeled points out of a total 838 points : 149 ~ 17%\n",
      "Mediana -> Number of mislabeled points out of a total 838 points : 153 ~ 18%\n",
      "\n",
      "CART\n",
      "Sem NaN -> Number of mislabeled points out of a total 688 points : 149 ~ 21%\n",
      "Média -> Number of mislabeled points out of a total 838 points : 200 ~ 23%\n",
      "Mediana -> Number of mislabeled points out of a total 838 points : 198 ~ 23%\n"
     ]
    }
   ],
   "source": [
    "# Criar vários modelos com diferentes métricas a imputar em elementos NaN de length\n",
    "df_mean = df.fillna(df.mean())\n",
    "df_med = df.fillna(df.median())\n",
    "df_normal = df.dropna()\n",
    "\n",
    "#Label\n",
    "X = df_normal.drop('match', axis = 1).values\n",
    "X_mean = df_mean.drop('match', axis = 1).values\n",
    "X_med = df_med.drop('match',axis = 1).values\n",
    "\n",
    "#Features\n",
    "y = df_normal['match'].values\n",
    "y_mean = df_mean['match'].values\n",
    "y_med = df_med['match'].values\n",
    "\n",
    "text = ['Sem NaN','Média','Mediana']\n",
    "X_list = [X,X_mean,X_med]\n",
    "y_list = [y,y_mean,y_med]\n",
    "\n",
    "#Testes com os algoritmos base\n",
    "\n",
    "print(\"\")\n",
    "print(\"GAUSSIAN-NB\")\n",
    "for i, j,k in zip(text,X_list,y_list):\n",
    "    X_train, X_test, y_train, y_test = train_test_split(j, k, test_size=0.1, random_state=0)\n",
    "    gnb = GaussianNB()\n",
    "    y_pred = gnb.fit(X_train, y_train).predict(X_test)\n",
    "    total = X_test.shape[0]\n",
    "    miss = (y_test != y_pred).sum()\n",
    "    print(i,\"-> Number of mislabeled points out of a total %d points : %d ~ %d%%\" % (total,miss,((miss/total)*100)))\n",
    "print(\"\")\n",
    "print(\"CART\")\n",
    "for i, j,k in zip(text,X_list,y_list):\n",
    "    X_train, X_test, y_train, y_test = train_test_split(j, k, test_size=0.1, random_state=0)\n",
    "    clf = DecisionTreeClassifier(random_state = 0)\n",
    "    y_pred = clf.fit(X_train, y_train).predict(X_test)\n",
    "    total = X_test.shape[0]\n",
    "    miss = (y_test != y_pred).sum()\n",
    "    print(i,\"-> Number of mislabeled points out of a total %d points : %d ~ %d%%\" % (total,miss,((miss/total)*100)))"
   ]
  },
  {
   "cell_type": "markdown",
   "id": "b5ecb2a1",
   "metadata": {},
   "source": [
    "# Expriências e resultados"
   ]
  },
  {
   "cell_type": "code",
   "execution_count": 292,
   "id": "458a0b5d",
   "metadata": {},
   "outputs": [
    {
     "name": "stdout",
     "output_type": "stream",
     "text": [
      "              precision    recall  f1-score   support\n",
      "\n",
      "           0       0.85      0.94      0.89      1130\n",
      "           1       0.48      0.26      0.33       246\n",
      "\n",
      "    accuracy                           0.82      1376\n",
      "   macro avg       0.67      0.60      0.61      1376\n",
      "weighted avg       0.79      0.82      0.79      1376\n",
      "\n",
      "Accuracy: 81%\n"
     ]
    },
    {
     "data": {
      "image/png": "[encoded data removed]",
      "text/plain": [
       "<Figure size 432x288 with 2 Axes>"
      ]
     },
     "metadata": {
      "needs_background": "light"
     },
     "output_type": "display_data"
    }
   ],
   "source": [
    "X = df_normal.drop('match', axis = 1).values\n",
    "y = df_normal['match'].values\n",
    "\n",
    "#Primeira abordagem\n",
    "X_train, X_test, y_train, y_test = train_test_split(X,y, test_size=0.2, random_state=0)\n",
    "gnb = GaussianNB()\n",
    "y_pred = gnb.fit(X_train, y_train).predict(X_test)\n",
    "#print(\"Accuracy:\",accuracy_score(y_test, y_pred))\n",
    "plot_confusion_matrix(clf, X_test, y_test)\n",
    "results_nm = confusion_matrix(y_test,y_pred)\n",
    "#print(results_nm)\n",
    "print(classification_report(y_test,y_pred))\n",
    "print(\"Accuracy: %d%%\"% (accuracy_score(y_test,y_pred)*100))"
   ]
  },
  {
   "cell_type": "code",
   "execution_count": 298,
   "id": "fc24271f",
   "metadata": {},
   "outputs": [
    {
     "name": "stdout",
     "output_type": "stream",
     "text": [
      "              precision    recall  f1-score   support\n",
      "\n",
      "           0       0.86      0.94      0.89      1140\n",
      "           1       0.44      0.24      0.31       236\n",
      "\n",
      "    accuracy                           0.82      1376\n",
      "   macro avg       0.65      0.59      0.60      1376\n",
      "weighted avg       0.79      0.82      0.79      1376\n",
      "\n",
      "Accuracy: 81%\n"
     ]
    },
    {
     "data": {
      "image/png": "[encoded data removed]",
      "text/plain": [
       "<Figure size 432x288 with 2 Axes>"
      ]
     },
     "metadata": {
      "needs_background": "light"
     },
     "output_type": "display_data"
    }
   ],
   "source": [
    "#Fazer shuffle aos dados\n",
    "df_shuffle = df_normal.sample(frac = 1)\n",
    "\n",
    "\n",
    "X = df_shuffle.drop('match', axis = 1).values\n",
    "y = df_shuffle['match'].values\n",
    "X_train, X_test, y_train, y_test = train_test_split(X,y, test_size=0.2, random_state=0)\n",
    "gnb = GaussianNB()\n",
    "y_pred = gnb.fit(X_train, y_train).predict(X_test)\n",
    "#print(\"Accuracy:\",accuracy_score(y_test, y_pred))\n",
    "plot_confusion_matrix(gnb, X_test, y_test)\n",
    "print(classification_report(y_test,y_pred))\n",
    "print(\"Accuracy: %d%%\"% (accuracy_score(y_test,y_pred)*100))"
   ]
  },
  {
   "cell_type": "code",
   "execution_count": 327,
   "id": "74451e16",
   "metadata": {},
   "outputs": [],
   "source": [
    "#Alterar alguns parametros\n",
    "df_shuffle = df_normal.sample(frac = 1)\n",
    "\n",
    "\n",
    "X = df_shuffle.drop('match', axis = 1).values\n",
    "y = df_shuffle['match'].values"
   ]
  },
  {
   "cell_type": "code",
   "execution_count": 331,
   "id": "78845cfc",
   "metadata": {},
   "outputs": [
    {
     "name": "stdout",
     "output_type": "stream",
     "text": [
      "              precision    recall  f1-score   support\n",
      "\n",
      "           0       0.85      0.99      0.91      1156\n",
      "           1       0.67      0.05      0.10       220\n",
      "\n",
      "    accuracy                           0.84      1376\n",
      "   macro avg       0.76      0.52      0.51      1376\n",
      "weighted avg       0.82      0.84      0.78      1376\n",
      "\n",
      "Accuracy: 84%\n"
     ]
    },
    {
     "data": {
      "image/png": "[encoded data removed]",
      "text/plain": [
       "<Figure size 432x288 with 2 Axes>"
      ]
     },
     "metadata": {
      "needs_background": "light"
     },
     "output_type": "display_data"
    }
   ],
   "source": [
    "X_train, X_test, y_train, y_test = train_test_split(X,y, test_size=0.2, random_state=0)\n",
    "gnb = GaussianNB(var_smoothing=0.1)\n",
    "y_pred = gnb.fit(X_train, y_train).predict(X_test)\n",
    "plot_confusion_matrix(gnb, X_test, y_test)\n",
    "print(classification_report(y_test,y_pred))\n",
    "print(\"Accuracy: %d%%\"% (accuracy_score(y_test,y_pred)*100))"
   ]
  },
  {
   "cell_type": "code",
   "execution_count": 330,
   "id": "ce101e1e",
   "metadata": {},
   "outputs": [
    {
     "name": "stdout",
     "output_type": "stream",
     "text": [
      "              precision    recall  f1-score   support\n",
      "\n",
      "           0       0.87      0.94      0.90      1156\n",
      "           1       0.45      0.28      0.34       220\n",
      "\n",
      "    accuracy                           0.83      1376\n",
      "   macro avg       0.66      0.61      0.62      1376\n",
      "weighted avg       0.80      0.83      0.81      1376\n",
      "\n",
      "Accuracy: 83%\n"
     ]
    },
    {
     "data": {
      "image/png": "[encoded data removed]",
      "text/plain": [
       "<Figure size 432x288 with 2 Axes>"
      ]
     },
     "metadata": {
      "needs_background": "light"
     },
     "output_type": "display_data"
    }
   ],
   "source": [
    "X_train, X_test, y_train, y_test = train_test_split(X,y, test_size=0.2, random_state=0)\n",
    "gnb = GaussianNB(var_smoothing=1e-60)\n",
    "y_pred = gnb.fit(X_train, y_train).predict(X_test)\n",
    "plot_confusion_matrix(gnb, X_test, y_test)\n",
    "print(classification_report(y_test,y_pred))\n",
    "print(\"Accuracy: %d%%\"% (accuracy_score(y_test,y_pred)*100))"
   ]
  },
  {
   "cell_type": "code",
   "execution_count": null,
   "id": "c438bb79",
   "metadata": {},
   "outputs": [],
   "source": []
  }
 ],
 "metadata": {
  "kernelspec": {
   "display_name": "Python 3",
   "language": "python",
   "name": "python3"
  },
  "language_info": {
   "codemirror_mode": {
    "name": "ipython",
    "version": 3
   },
   "file_extension": ".py",
   "mimetype": "text/x-python",
   "name": "python",
   "nbconvert_exporter": "python",
   "pygments_lexer": "ipython3",
   "version": "3.8.5"
  }
 },
 "nbformat": 4,
 "nbformat_minor": 5
}
